{
 "cells": [
  {
   "cell_type": "markdown",
   "metadata": {},
   "source": [
    "# Stanford RNA 3D Folding\n",
    "\n",
    "I'm going to fucking win :)"
   ]
  },
  {
   "cell_type": "markdown",
   "metadata": {},
   "source": [
    "# Water"
   ]
  },
  {
   "cell_type": "markdown",
   "metadata": {},
   "source": [
    "universal solvent, required for life, primordial soup, broth, etc.\n",
    "yummy"
   ]
  },
  {
   "cell_type": "markdown",
   "metadata": {},
   "source": [
    "## Synthesis of Water: H2, O2\n",
    "\n",
    "### Definitions\n",
    "- charged particle: `[1]`\n",
    "- uncharged particle: `[0]`\n",
    "- proton: `[1, 0]` -- `positive charge, negative charge`\n",
    "- electron: `[0, 1]` -- `positive charge - negative charge`\n",
    "- atom: `[[proton], [electron]]^(atomic number)` -- row reduce to identity matrix, [1, 0]^(charge)\n",
    "- atomic number of element: determinant of matrix\n",
    "- charge of element: dot product of matrix\n",
    "- ion: `[[proton]^(number)] -- row reduce to [1, 0]* charge"
   ]
  },
  {
   "cell_type": "markdown",
   "metadata": {},
   "source": [
    "### Hydrogen Bonds\n",
    "\n",
    "## Synthesis of Water: H2, O2"
   ]
  },
  {
   "cell_type": "markdown",
   "metadata": {},
   "source": [
    "## Decomposition of Water: H2O\n",
    "\n",
    "### Acid-Base Chemistry: Bronsted-Lowry, etc.\n",
    "\n",
    "### Electrolysis\n",
    "\n",
    "### Galvanic Currents"
   ]
  },
  {
   "cell_type": "markdown",
   "metadata": {},
   "source": [
    "## Equilibrium"
   ]
  },
  {
   "cell_type": "markdown",
   "metadata": {},
   "source": [
    "## Photosynthesis vs. Cellular Respiration"
   ]
  },
  {
   "cell_type": "markdown",
   "metadata": {},
   "source": [
    "## Endosymbiosis"
   ]
  }
 ],
 "metadata": {
  "language_info": {
   "name": "python"
  }
 },
 "nbformat": 4,
 "nbformat_minor": 2
}
