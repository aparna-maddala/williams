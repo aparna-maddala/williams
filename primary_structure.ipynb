{
 "cells": [
  {
   "cell_type": "markdown",
   "metadata": {},
   "source": [
    "# RNA Primary Structure: Sequence Prediction\n",
    "\n",
    "* goal: create a graph structure to represent a small nucleotide polymer"
   ]
  },
  {
   "cell_type": "markdown",
   "metadata": {},
   "source": [
    "## Definitions"
   ]
  },
  {
   "cell_type": "markdown",
   "metadata": {},
   "source": [
    "### Water\n",
    "* universal solvent, required for life, primordial soup, broth, etc.\n",
    "* yummy\n",
    "* Synthesis of Water: H2, O2"
   ]
  },
  {
   "cell_type": "markdown",
   "metadata": {},
   "source": [
    "### Mathematical Definitions\n",
    "- charged particle: `[1]`\n",
    "- uncharged particle: `[0]`\n",
    "- proton: `[1, 0]` -- `positive charge, negative charge`\n",
    "- electron: `[0, 1]` -- `positive charge - negative charge`\n",
    "- atom: `[[proton], [electron]]^(atomic number)` -- row reduce to identity matrix, [1, 0]^(charge)\n",
    "- atomic number of element: determinant of matrix\n",
    "- charge of element: dot product of matrix\n",
    "- ion: `[[proton]^(number)] -- row reduce to [1, 0]* charge"
   ]
  },
  {
   "cell_type": "markdown",
   "metadata": {
    "vscode": {
     "languageId": "plaintext"
    }
   },
   "source": [
    "### Collisions\n",
    "- Say H2 and O2 can each represented by identity matrices. [1 0] -- neither of the atoms in each compound are charged"
   ]
  },
  {
   "cell_type": "code",
   "execution_count": null,
   "metadata": {
    "vscode": {
     "languageId": "plaintext"
    }
   },
   "outputs": [],
   "source": [
    "def collision():\n",
    "    pass"
   ]
  },
  {
   "cell_type": "markdown",
   "metadata": {},
   "source": [
    "### linear algebra\n",
    "\n",
    "- negative ion: OH-, Cl- -- [0, 1]\n",
    "- two of the same atoms colliding -- [1, 0]^2 = [[1, 0], [0, 1]] -- also an identity matrix\n",
    "- two different atoms colliding -- [1, 0] * [1, 0].T -- bc they have a diff number of valance electrons, we'll flip one\n",
    "- nonpolar diatomic covalent (ex: H2, O2) -- [[1 0], [1, 0]] -- perfect sharing so two of the same atom, none of the atoms hold a charge\n",
    "- a polar compound -- [[1, 0], [0, 1]]\n",
    "- nonpolar molecules w two of the same atoms: [1 0] -- one charged particle \n",
    "- polar molecules w two atoms: [1 0] -- one that is positively charged (+) and one that is negatively charged [0]\n",
    "H20 separates into H+ and OH-, H-O-H"
   ]
  },
  {
   "cell_type": "markdown",
   "metadata": {},
   "source": [
    "### [linear algebra stuff]\n",
    "- H atom: atomic number of 1, so one proton and one electron\n",
    "`[1, 0]\n",
    "- H atom: identity matrix, [[1, 0, [0, 1]] -- one proton, one electron\n",
    "- all atoms are identity matrices. [[1, 0], [0, 1]]^(atomic number + 1)\n",
    "    - so H is [[1, 0]^(1 + 1)]\n",
    "- H+ ion: []]"
   ]
  },
  {
   "cell_type": "markdown",
   "metadata": {},
   "source": [
    "### Hydrogen Bonds\n",
    "\n",
    "### H2, O2, H2O\n",
    "\n",
    "### Acid-Base Chemistry: Bronsted-Lowry, etc."
   ]
  },
  {
   "cell_type": "markdown",
   "metadata": {},
   "source": [
    "### Electrolysis"
   ]
  },
  {
   "cell_type": "code",
   "execution_count": null,
   "metadata": {
    "vscode": {
     "languageId": "plaintext"
    }
   },
   "outputs": [],
   "source": [
    "def electrolysis():\n",
    "    pass"
   ]
  }
 ],
 "metadata": {
  "language_info": {
   "name": "python"
  }
 },
 "nbformat": 4,
 "nbformat_minor": 2
}
